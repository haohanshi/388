{
 "cells": [
  {
   "cell_type": "markdown",
   "metadata": {},
   "source": [
    "# Level of Education Estimator"
   ]
  },
  {
   "cell_type": "markdown",
   "metadata": {},
   "source": [
    "**Alex Shi, Mark Lee, Jun Ma**"
   ]
  },
  {
   "cell_type": "markdown",
   "metadata": {},
   "source": [
    "## Introduction\n",
    "\n",
    "This project is be based on the idea of predicting education level by observing user behavior. More specifically, we plan to analyze the public posts of users on Facebook, using natural language processing to estimate the sophistication of said posts, and correlating the estimations with the actual education level of the users.\n",
    "\n",
    "## Overview\n",
    "\n",
    "Broadly, we have created an interface that accepts a link to a Facebook user's profile page, and outputs the predicted education level of the user:\n",
    "\n",
    "- college or above (2)\n",
    "- high school (1)\n",
    "- below high school (0)\n",
    "\n",
    "The end goal is to take a user's Facebook page and output a prediction of education level.\n",
    "\n",
    "## Source of data\n",
    "\n",
    "After sampling users from various Facebook pages, we found that education level is often hidden or missing completely. Rather than scraping education level directly from user profiles, we decided it would be more reliable to scrape pages with certain demographics, and assume that posts on those pages are representative of an average post within that education level. The following summarizes our findings:\n",
    "\n",
    "- college or above:\n",
    "    - [The New Yorker](https://www.facebook.com/newyorker)\n",
    "    - [The Economist](https://www.facebook.com/TheEconomist)\n",
    "    - [The New York Times](https://www.facebook.com/nytimes)\n",
    "- high school:\n",
    "    - [Justin Bieber](https://www.facebook.com/justin.bieber.film)\n",
    "    - [Twilight](https://www.facebook.com/TwilightMovie)\n",
    "    - [Minecraft](https://www.facebook.com/minecraft)\n",
    "- below high school:\n",
    "    - [Club Penguin](https://www.facebook.com/clubpenguin)\n",
    "    \n",
    "Some observations:\n",
    "\n",
    "- A lot of the pages targetted towards younger audiences are mostly recreational. We virtually couldn't find any pages that were both non-recreational and had substantial posts by younger users. \n",
    "- It was very difficult to find pages for the \"below high school\" group. We suspect that kids of that age typically don't post very much online (hence most pages were dominated by parents posting on behalf of their children).\n",
    "\n",
    "As such, we will make the assumption that the above few pages are relatively representative of each education level.\n",
    "\n",
    "Having identified these pages, we then used the Facebook [Graph API](https://developers.facebook.com/docs/graph-api) to first gather all the posts, then parse all the comments within each post.\n",
    "\n",
    "## Training\n",
    "\n",
    "The end goal is to take a list of (comment, education level) tuples and train an SVM model that takes a given post or comment and outputs a predicted education level. For any given comment or post, we run the following pre-processing steps:\n",
    "\n",
    "- ignore short posts (less than 5 words)\n",
    "- ignore non-English posts (using the [langid](https://github.com/saffsd/langid.py) library)\n",
    "- filter out punctuation (including things like emojis)\n",
    "- tokenize the filtered comment or post, removing stopwords and rare words (including things like links, proper nouns)\n",
    "- compute a vector of four metrics:\n",
    "    - `syllables_per_word`: count the total number of syllables and divide by total number of words\n",
    "    - `words_per_sentence`: count the total number of words and divide by total number of sentences\n",
    "    - `spelling_errors_per_sentence`: count the total number of spelling errors and divide by total number of sentences\n",
    "    - `grammer_errors_per_sentence`: count the total number of grammer errors and divide by total number of sentences\n",
    "    \n",
    "To compute the syllables per word, we use the syllable counter in [nltk_contrib](https://github.com/nltk/nltk_contrib/blob/master/nltk_contrib/readability/syllables_en.py). To identify spelling errors, we check whether words (proper nouns i.e capitalized words excluded) are within a [dictionary of english words](https://github.com/dwyl/english-words). To identify grammer errors, we use the [grammer-check](https://pypi.python.org/pypi/grammar-check) library, which gives us the number of total grammar errors.\n",
    "\n",
    "The processed comments are then labeled based on which source it came from (e.g posts from The New Yorker will have label of 2) and then used to train the SVM using linear regression.\n",
    "\n",
    "## Predicting\n",
    "\n",
    "Given a new user's Facebook page, we use the same functions as before to scrape all posts and comments from the user, applying the same pre-processing steps as we did during training. Finally, we use the trained SVM to predict the education level.\n",
    "\n",
    "## Current status\n",
    "\n",
    "We have finished scraping all of the data and training the model. What remains is to use our model to make predictions. We are currently looking at different celebrities/prominent figures to make predictions on, as well as different ways to present our data graphically in order to capture the most interesting results.\n",
    "\n",
    "## Appendix\n",
    "\n",
    "- https://www.quora.com/What-are-the-demographics-of-Minecraft-players\n",
    "- http://www.ibtimes.com/audience-profiles-who-actually-reads-new-york-times-watches-fox-news-other-news-publications-1451828\n",
    "- https://pypi.python.org/pypi/pylinkgrammar\n",
    "- http://stackoverflow.com/questions/10252448/how-to-check-whether-a-sentence-is-correct-simple-grammar-check-in-python\n",
    "- https://github.com/dwyl/english-words"
   ]
  }
 ],
 "metadata": {
  "anaconda-cloud": {},
  "kernelspec": {
   "display_name": "Python 2",
   "language": "python",
   "name": "python2"
  },
  "language_info": {
   "codemirror_mode": {
    "name": "ipython",
    "version": 2
   },
   "file_extension": ".py",
   "mimetype": "text/x-python",
   "name": "python",
   "nbconvert_exporter": "python",
   "pygments_lexer": "ipython2",
   "version": "2.7.12"
  }
 },
 "nbformat": 4,
 "nbformat_minor": 0
}
